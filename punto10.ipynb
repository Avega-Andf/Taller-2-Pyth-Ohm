{
 "cells": [
  {
   "cell_type": "code",
   "execution_count": 1,
   "metadata": {},
   "outputs": [
    {
     "name": "stdout",
     "output_type": "stream",
     "text": [
      "La matriz...\n",
      "[1]\n",
      "... es mágica\n"
     ]
    }
   ],
   "source": [
    "# Desarrollar un algoritmo que determine si una matriz es mágica. Se dice que una \n",
    "# matriz cuadrada es mágica si la suma de cada una de sus filas, de cada una de sus \n",
    "# columnas y de cada diagonal es igual.\n",
    "\n",
    "def matriz_magic(matriz):\n",
    "    \"\"\"\n",
    "    Verifica si una matriz es mágica.\n",
    "\n",
    "    Args:\n",
    "    matriz (list): Una lista de listas que representa la matriz a verificar.\n",
    "\n",
    "    Returns:\n",
    "    bool: True si la matriz es mágica, False en caso contrario.\n",
    "    \"\"\"\n",
    "    n = len(matriz)\n",
    "    # sumdiade = suma diagonal derecha\n",
    "    sumdiade = sum(matriz[i][i] for i in range(n))\n",
    "    # sumdiaiz = suma diagonal izquierda\n",
    "    sumdiaiz = sum(matriz[i][n-i-1] for i in range(n))\n",
    "    if sumdiade != sumdiaiz:\n",
    "        return False\n",
    "    # para comprobar las sumas de filas, columnas y diagonales\n",
    "    for i in range(n):\n",
    "        if sum(matriz[i]) != sumdiade:\n",
    "            return False\n",
    "        if sum(matriz[j][i] for j in range(n)) != sumdiade:\n",
    "            return False\n",
    "    return True\n",
    "\n",
    "# Para \"cuadrar\" la matriz cuadrada.\n",
    "n = int(input(\"Ingrese el tamaño de la matriz cuadrada: \"))\n",
    "matriz = []\n",
    "for i in range(n):\n",
    "    fila = []\n",
    "    for j in range(n):\n",
    "        entrada = int(input(\"Ingrese el elemento\"+ str(i) + \",\" +str(j)+ \":\" ))\n",
    "        fila.append(entrada)\n",
    "    matriz.append(fila)\n",
    "\n",
    "# Para mostrar la matriz.\n",
    "print(\"La matriz...\")\n",
    "for i in range(len(matriz)):\n",
    "    print(matriz[i])\n",
    "\n",
    "# Da el veredicto.\n",
    "if matriz_magic(matriz):\n",
    "    print(\"... es mágica\")\n",
    "else:\n",
    "    print(\"... NO es mágica\")\n"
   ]
  }
 ],
 "metadata": {
  "kernelspec": {
   "display_name": "Python 3",
   "language": "python",
   "name": "python3"
  },
  "language_info": {
   "codemirror_mode": {
    "name": "ipython",
    "version": 3
   },
   "file_extension": ".py",
   "mimetype": "text/x-python",
   "name": "python",
   "nbconvert_exporter": "python",
   "pygments_lexer": "ipython3",
   "version": "3.11.2"
  },
  "orig_nbformat": 4
 },
 "nbformat": 4,
 "nbformat_minor": 2
}
