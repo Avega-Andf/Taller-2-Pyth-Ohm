{
 "cells": [
  {
   "cell_type": "code",
   "execution_count": 15,
   "metadata": {},
   "outputs": [
    {
     "name": "stdout",
     "output_type": "stream",
     "text": [
      "La lista ingresada:  ['4', '4', '2', '1']\n",
      "La lista ingresada tiene elementos repetidos\n"
     ]
    }
   ],
   "source": [
    "def crearlista(e):\n",
    "    \"\"\"\n",
    "    Crea una lista de tamaño especificado por el usuario, pidiendo al usuario que ingrese cada elemento.\n",
    "\n",
    "    Args:\n",
    "        e(int): El tamaño de la lista a crear.\n",
    "\n",
    "    Returns:\n",
    "        list: Una lista con los elementos ingresados por el usuario.\n",
    "    \"\"\"\n",
    "    lista = []  \n",
    "    for i in range(e):\n",
    "        n = str(input(\"Ingrese elemento para la lista\"))\n",
    "        lista.append(n)\n",
    "    return lista\n",
    "    \n",
    "def sin_repetidos(lista):\n",
    "    \"\"\"\n",
    "    Determina si una lista tiene elementos repetidos.\n",
    "\n",
    "    Args:\n",
    "        lista (list): La lista a verificar.\n",
    "\n",
    "    Returns:\n",
    "        bool: True si la lista tiene elementos repetidos, False si no.\n",
    "    \"\"\"\n",
    "    for i in range(len(lista)): \n",
    "        if lista[i] in lista[i+1:]:  # Se usa [i+1:] para crear una nueva lista que contiene los elementos de la lista original a partir del índice \"i+1\" hasta el final de la lista. \n",
    "            return False # Si hay repetidos regresa False\n",
    "    return True #Si no hay repetidos regresa True\n",
    "\n",
    "def repetidos(lista):\n",
    "    \"\"\"\n",
    "    Verifica si una lista tiene elementos repetidos y devuelve un mensaje.\n",
    "\n",
    "    Args:\n",
    "        lista (list): La lista a verificar.\n",
    "\n",
    "    Returns:\n",
    "        str: Un mensaje indicando si la lista tiene elementos repetidos o no.\n",
    "    \"\"\"\n",
    "    if sin_repetidos(lista): #Se aplica la funcion sin repetidos en la lista, para verifiacr si tiene o no elementos repetidos\n",
    "        mensaje = \"La lista ingresada no tiene elementos repetidos\"\n",
    "    else:\n",
    "        mensaje = \"La lista ingresada tiene elementos repetidos\"\n",
    "    return mensaje #Dependiendo si tieno o no, se regresara alguno de los dos mensajes\n",
    "\n",
    "if __name__ == \"__main__\":\n",
    "    e = int(input(\"ingrese el tamaño de la lista 1: \")) #Cantidad de elementos de la lista\n",
    "    #Se llama las funciones\n",
    "    lista = crearlista(e)\n",
    "    repetir = repetidos(lista)\n",
    "    #Se imprime\n",
    "    print(\"La lista ingresada: \", lista)\n",
    "    print(repetir)"
   ]
  }
 ],
 "metadata": {
  "kernelspec": {
   "display_name": "Python 3",
   "language": "python",
   "name": "python3"
  },
  "language_info": {
   "codemirror_mode": {
    "name": "ipython",
    "version": 3
   },
   "file_extension": ".py",
   "mimetype": "text/x-python",
   "name": "python",
   "nbconvert_exporter": "python",
   "pygments_lexer": "ipython3",
   "version": "3.11.2"
  },
  "orig_nbformat": 4
 },
 "nbformat": 4,
 "nbformat_minor": 2
}
