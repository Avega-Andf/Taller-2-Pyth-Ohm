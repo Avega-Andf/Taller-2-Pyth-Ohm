{
 "cells": [
  {
   "cell_type": "code",
   "execution_count": 2,
   "metadata": {},
   "outputs": [
    {
     "name": "stdout",
     "output_type": "stream",
     "text": [
      "Lista 1:  ['4', '4', '4', '4']\n",
      "Lista 2;  ['4', '4', '4', '4']\n",
      "Elementos que tiene la primer lista y la segunda no:  []\n"
     ]
    }
   ],
   "source": [
    "def crearlista1(e):\n",
    "    \"\"\"\n",
    "    Crea una lista de cadenas de caracteres de longitud e.\n",
    "\n",
    "    Returns:\n",
    "        list: La lista con e elementos.\n",
    "    \"\"\"\n",
    "    lista1 = []  # inicializa una lista vacía\n",
    "    for i in range(e):  # itera sobre un rango de e veces\n",
    "        n = str(input(\"Ingrese elemento para la lista 1\"))  # solicita una cadena de caracteres al usuario\n",
    "        lista1.append(n)  # agrega la cadena a la lista\n",
    "    return (lista1)  # retorna la lista creada\n",
    "\n",
    "def crearlista2(f):\n",
    "    \"\"\"\n",
    "    Crea una lista de cadenas de caracteres de longitud f.\n",
    "\n",
    "    Returns:\n",
    "        list: La lista con f elementos.\n",
    "    \"\"\"\n",
    "    lista2 = []  # inicializa una lista vacía\n",
    "    for i in range(f):  # itera sobre un rango de f veces\n",
    "        n = str(input(\"Ingrese elemento para la lista 2\"))  # solicita una cadena de caracteres al usuario\n",
    "        lista2.append(n)  # agrega la cadena a la lista\n",
    "    return (lista2)  # retorna la lista creada\n",
    "\n",
    "def funcionbuscar(lista1, lista2):\n",
    "    \"\"\"\n",
    "    Busca los elementos de lista1 que no están en lista2 y los devuelve como una lista.\n",
    "\n",
    "    Args:\n",
    "    lista1 (list): la lista de la que se extraerán los elementos.\n",
    "    lista2 (list): la lista que se utilizará para comprobar qué elementos están en lista1.\n",
    "\n",
    "    Returns:\n",
    "    list: una lista de los elementos de lista1 que no están en lista2.\n",
    "    \"\"\"\n",
    "    numeros = []\n",
    "    for i in lista1: # Este bucle itera a través de los elementos de la primera lista, uno por uno.\n",
    "        if i not in lista2: # Si el elemento actual de la lista1 no está en la segunda lista (lista2), el siguiente bloque de código se ejecuta.\n",
    "            numeros.append(i) # Agrega el elemento actual (i) a la lista \"numeros\".\n",
    "    return numeros # Devuelve la lista \"numeros\" que contiene los elementos que estaban en la primera lista pero no en la segunda lista.\n",
    "\n",
    "if __name__ == \"__main__\":\n",
    "    # Tamaño de la listas\n",
    "    e = int(input(\"Ingrese el tamaño de la lista 1: \"))\n",
    "    f = int(input(\"Ingrese el tamaño de la lista 2: \"))\n",
    "    # Se llaman las funciones\n",
    "    lista1 = crearlista1(e)\n",
    "    lista2 = crearlista2(f)\n",
    "    buscar = funcionbuscar(lista1, lista2)\n",
    "    # Se imprimen los valores\n",
    "    print(\"Lista 1: \" ,lista1)\n",
    "    print(\"Lista 2; \" ,lista2)\n",
    "    print(\"Elementos que tiene la primer lista y la segunda no: \" ,buscar)\n"
   ]
  }
 ],
 "metadata": {
  "kernelspec": {
   "display_name": "Python 3",
   "language": "python",
   "name": "python3"
  },
  "language_info": {
   "codemirror_mode": {
    "name": "ipython",
    "version": 3
   },
   "file_extension": ".py",
   "mimetype": "text/x-python",
   "name": "python",
   "nbconvert_exporter": "python",
   "pygments_lexer": "ipython3",
   "version": "3.11.2"
  },
  "orig_nbformat": 4
 },
 "nbformat": 4,
 "nbformat_minor": 2
}
