{
 "cells": [
  {
   "cell_type": "code",
   "execution_count": null,
   "metadata": {},
   "outputs": [],
   "source": []
  },
  {
   "cell_type": "code",
   "execution_count": 7,
   "metadata": {},
   "outputs": [
    {
     "ename": "ValueError",
     "evalue": "invalid literal for int() with base 10: 'hola'",
     "output_type": "error",
     "traceback": [
      "\u001b[1;31m---------------------------------------------------------------------------\u001b[0m",
      "\u001b[1;31mValueError\u001b[0m                                Traceback (most recent call last)",
      "Cell \u001b[1;32mIn[7], line 37\u001b[0m\n\u001b[0;32m     35\u001b[0m e \u001b[39m=\u001b[39m \u001b[39mint\u001b[39m(\u001b[39minput\u001b[39m(\u001b[39m\"\u001b[39m\u001b[39mIngrese el tamaño de la lista 1: \u001b[39m\u001b[39m\"\u001b[39m))\n\u001b[0;32m     36\u001b[0m f \u001b[39m=\u001b[39m \u001b[39mint\u001b[39m(\u001b[39minput\u001b[39m(\u001b[39m\"\u001b[39m\u001b[39mIngrese el tamaño de la lista 2: \u001b[39m\u001b[39m\"\u001b[39m))\n\u001b[1;32m---> 37\u001b[0m lista1 \u001b[39m=\u001b[39m crearlista1(e)\n\u001b[0;32m     38\u001b[0m lista2 \u001b[39m=\u001b[39m crearlista2(f)\n\u001b[0;32m     39\u001b[0m buscar \u001b[39m=\u001b[39m funcionbuscar(lista1, lista2)\n",
      "Cell \u001b[1;32mIn[7], line 10\u001b[0m, in \u001b[0;36mcrearlista1\u001b[1;34m(e)\u001b[0m\n\u001b[0;32m      8\u001b[0m lista1 \u001b[39m=\u001b[39m []  \u001b[39m# inicializa una lista vacía\u001b[39;00m\n\u001b[0;32m      9\u001b[0m \u001b[39mfor\u001b[39;00m i \u001b[39min\u001b[39;00m \u001b[39mrange\u001b[39m(e):  \u001b[39m# itera sobre un rango de 5 veces, ya que se pide una lista de 5\u001b[39;00m\n\u001b[1;32m---> 10\u001b[0m     n \u001b[39m=\u001b[39m \u001b[39mint\u001b[39;49m(\u001b[39minput\u001b[39;49m(\u001b[39m\"\u001b[39;49m\u001b[39mIngrese elemento para la lista 1\u001b[39;49m\u001b[39m\"\u001b[39;49m))  \u001b[39m# solicita una cadena de caracteres al usuario\u001b[39;00m\n\u001b[0;32m     11\u001b[0m     lista1\u001b[39m.\u001b[39mappend(n)  \u001b[39m# agrega la cadena a la lista\u001b[39;00m\n\u001b[0;32m     12\u001b[0m \u001b[39mreturn\u001b[39;00m (lista1)\n",
      "\u001b[1;31mValueError\u001b[0m: invalid literal for int() with base 10: 'hola'"
     ]
    }
   ],
   "source": [
    "def crearlista1(e):\n",
    "    \"\"\"\n",
    "    Crea una lista de cadenas de caracteres de longitud 5.\n",
    "\n",
    "    Returns:\n",
    "        list: La lista con 5 numeros flotantes.\n",
    "    \"\"\"\n",
    "    lista1 = []  # inicializa una lista vacía\n",
    "    for i in range(e):  # itera sobre un rango de 5 veces, ya que se pide una lista de 5\n",
    "        n = int(input(\"Ingrese elemento para la lista 1\"))  # solicita una cadena de caracteres al usuario\n",
    "        lista1.append(n)  # agrega la cadena a la lista\n",
    "    return (lista1)  # retorna la lista creada\n",
    "\n",
    "def crearlista2(f):\n",
    "    \"\"\"\n",
    "    Crea una lista de cadenas de caracteres de longitud 5.\n",
    "\n",
    "    Returns:\n",
    "        list: La lista con 5 numeros flotantes.\n",
    "    \"\"\"\n",
    "    lista2 = []  # inicializa una lista vacía\n",
    "    for i in range(f):  # itera sobre un rango de 5 veces, ya que se pide una lista de 5\n",
    "        n = int(input(\"Ingrese elemento para la lista 2\"))  # solicita una cadena de caracteres al usuario\n",
    "        lista2.append(n)  # agrega la cadena a la lista\n",
    "    return (lista2)  # retorna la lista creada\n",
    "\n",
    "def funcionbuscar(lista1, lista2):\n",
    "    numeros = []\n",
    "    for i in lista1:\n",
    "        if i not in lista2:\n",
    "            numeros.append(i)\n",
    "    return numeros\n",
    "\n",
    "if __name__ == \"__main__\":\n",
    "    e = int(input(\"Ingrese el tamaño de la lista 1: \"))\n",
    "    f = int(input(\"Ingrese el tamaño de la lista 2: \"))\n",
    "    lista1 = crearlista1(e)\n",
    "    lista2 = crearlista2(f)\n",
    "    buscar = funcionbuscar(lista1, lista2)\n",
    "    print(\"Lista 1: \" ,lista1)\n",
    "    print(\"Lista 2; \" ,lista2)\n",
    "    print(\"Elementos que tiene la primer lista y la segunda no: \" ,buscar)\n"
   ]
  }
 ],
 "metadata": {
  "kernelspec": {
   "display_name": "Python 3",
   "language": "python",
   "name": "python3"
  },
  "language_info": {
   "codemirror_mode": {
    "name": "ipython",
    "version": 3
   },
   "file_extension": ".py",
   "mimetype": "text/x-python",
   "name": "python",
   "nbconvert_exporter": "python",
   "pygments_lexer": "ipython3",
   "version": "3.11.2"
  },
  "orig_nbformat": 4
 },
 "nbformat": 4,
 "nbformat_minor": 2
}
