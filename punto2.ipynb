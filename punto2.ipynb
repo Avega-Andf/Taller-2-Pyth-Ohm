{
 "cells": [
  {
   "cell_type": "code",
   "execution_count": 22,
   "metadata": {},
   "outputs": [
    {
     "name": "stdout",
     "output_type": "stream",
     "text": [
      "Numero ingresado: 4.8\n",
      "Parte entera: [4]\n",
      "Parte decimal: [7, 9, 9, 9, 9, 9, 9, 9, 9, 9]\n"
     ]
    }
   ],
   "source": [
    "def listaentera(numero):\n",
    "    \"\"\"\n",
    "    Función que recibe un número y devuelve una lista con cada uno de sus dígitos enteros.\n",
    "\n",
    "    Args:\n",
    "    numero (float): El número real a separar en dígitos enteros.\n",
    "\n",
    "    Returns:\n",
    "    list: Una lista con los dígitos enteros del número.\n",
    "    \"\"\"\n",
    "    numerostr = str(int(numero))  # Se convierte el número en un entero y luego en una cadena de caracteres\n",
    "    parteentera = []  # Se crea una lista vacía para almacenar los dígitos enteros del número\n",
    "    for i in numerostr:  # Se recorre la cadena de caracteres\n",
    "        parteentera.append(int(i))  # Se convierte cada carácter en un entero y se agrega a la lista\n",
    "    return parteentera  # Se retorna la lista de dígitos enteros del número\n",
    "\n",
    "\n",
    "def listadecimal(x):\n",
    "    \"\"\"\n",
    "    Función que recibe un número real y devuelve una lista con cada uno de sus dígitos decimales.\n",
    "\n",
    "    Args:\n",
    "    x (float): El número real a separar en dígitos decimales.\n",
    "\n",
    "    Returns:\n",
    "    list: Una lista con los dígitos decimales del número.\n",
    "    \"\"\"\n",
    "    entero = int(x)  # Se obtiene la parte entera del número\n",
    "    decimal = x - entero  # Se obtiene la parte decimal del número\n",
    "    partedecimal = []  # Se crea una lista vacía para almacenar los dígitos decimales del número\n",
    "    for i in range(10):  # Se itera 10 veces para obtener hasta 10 dígitos decimales\n",
    "        decimal *= 10  # Se multiplica la parte decimal por 10\n",
    "        digito = int(decimal)  # Se obtiene el primer dígito decimal\n",
    "        partedecimal.append(digito)  # Se agrega el dígito decimal a la lista\n",
    "        decimal -= digito  # Se resta el dígito decimal obtenido a la parte decimal y se repite el proceso\n",
    "    return partedecimal  # Se retorna la lista de dígitos decimales del número\n",
    "\n",
    "\n",
    "if __name__ == \"__main__\":\n",
    "    numero = float(input(\"Ingrese el número decimal: \"))  # Se solicita al usuario que ingrese un número real\n",
    "    digitosenteros = listaentera(numero)  # Se llama a la función listaentera para obtener la lista de dígitos enteros del número\n",
    "    digitosdecimales = listadecimal(numero)  # Se llama a la función listadecimal para obtener la lista de dígitos decimales del número\n",
    "    print(\"Numero ingresado: \" + str(numero))\n",
    "    print(\"Parte entera: \" + str(digitosenteros))  # Se imprime la lista de dígitos enteros del número\n",
    "    print(\"Parte decimal: \" + str(digitosdecimales))  # Se imprime la lista de dígitos decimales del número\n"
   ]
  }
 ],
 "metadata": {
  "kernelspec": {
   "display_name": "Python 3",
   "language": "python",
   "name": "python3"
  },
  "language_info": {
   "codemirror_mode": {
    "name": "ipython",
    "version": 3
   },
   "file_extension": ".py",
   "mimetype": "text/x-python",
   "name": "python",
   "nbconvert_exporter": "python",
   "pygments_lexer": "ipython3",
   "version": "3.11.2"
  },
  "orig_nbformat": 4
 },
 "nbformat": 4,
 "nbformat_minor": 2
}
